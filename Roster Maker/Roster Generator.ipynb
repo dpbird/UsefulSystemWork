{
 "cells": [
  {
   "cell_type": "code",
   "execution_count": 1,
   "metadata": {},
   "outputs": [],
   "source": [
    "import pandas as pd\n",
    "import os"
   ]
  },
  {
   "cell_type": "code",
   "execution_count": 34,
   "metadata": {},
   "outputs": [
    {
     "name": "stdout",
     "output_type": "stream",
     "text": [
      "['CourseRoster_F24_10301_A_08.30.2024.csv', 'CourseRoster_F24_10301_B_08.30.2024.csv', 'CourseRoster_F24_10601_A_08.30.2024.csv', 'CourseRoster_F24_10601_B_08.30.2024.csv']\n"
     ]
    }
   ],
   "source": [
    "rosters = list(os.walk(\"Rosters\"))[0][-1]\n",
    "print(rosters)\n",
    "\n",
    "fullRoster = pd.read_csv(f\"Rosters/{rosters[0]}\")\n",
    "\n",
    "print(fullRoster.shape)\n",
    "for roster in rosters[1:]:\n",
    "    fullRoster = pd.concat([fullRoster, pd.read_csv(f\"Rosters/{roster}\")])\n",
    "\n",
    "fullRoster.to_csv(f\"Generated Full Roster {fullRoster.shape[0]} Students.csv\")"
   ]
  }
 ],
 "metadata": {
  "kernelspec": {
   "display_name": "Python 3",
   "language": "python",
   "name": "python3"
  },
  "language_info": {
   "codemirror_mode": {
    "name": "ipython",
    "version": 3
   },
   "file_extension": ".py",
   "mimetype": "text/x-python",
   "name": "python",
   "nbconvert_exporter": "python",
   "pygments_lexer": "ipython3",
   "version": "3.11.2"
  }
 },
 "nbformat": 4,
 "nbformat_minor": 2
}
