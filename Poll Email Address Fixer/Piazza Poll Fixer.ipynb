{
 "cells": [
  {
   "cell_type": "code",
   "execution_count": 1,
   "metadata": {},
   "outputs": [],
   "source": [
    "import pandas as pd\n",
    "\n",
    "\n"
   ]
  },
  {
   "cell_type": "code",
   "execution_count": 26,
   "metadata": {},
   "outputs": [
    {
     "data": {
      "text/html": [
       "<div>\n",
       "<style scoped>\n",
       "    .dataframe tbody tr th:only-of-type {\n",
       "        vertical-align: middle;\n",
       "    }\n",
       "\n",
       "    .dataframe tbody tr th {\n",
       "        vertical-align: top;\n",
       "    }\n",
       "\n",
       "    .dataframe thead th {\n",
       "        text-align: right;\n",
       "    }\n",
       "</style>\n",
       "<table border=\"1\" class=\"dataframe\">\n",
       "  <thead>\n",
       "    <tr style=\"text-align: right;\">\n",
       "      <th></th>\n",
       "      <th>emails</th>\n",
       "      <th>vote</th>\n",
       "    </tr>\n",
       "    <tr>\n",
       "      <th>name</th>\n",
       "      <th></th>\n",
       "      <th></th>\n",
       "    </tr>\n",
       "  </thead>\n",
       "  <tbody>\n",
       "    <tr>\n",
       "      <th>Joseph Chan</th>\n",
       "      <td>josephc2@andrew.cmu.edu,josephchanke@gmail.com</td>\n",
       "      <td>1.0</td>\n",
       "    </tr>\n",
       "    <tr>\n",
       "      <th>James David Ngai</th>\n",
       "      <td>jdngai@andrew.cmu.edu,jamesdngai@gmail.com</td>\n",
       "      <td>1.0</td>\n",
       "    </tr>\n",
       "    <tr>\n",
       "      <th>Theophilos</th>\n",
       "      <td>tcockrel@andrew.cmu.edu</td>\n",
       "      <td>1.0</td>\n",
       "    </tr>\n",
       "    <tr>\n",
       "      <th>Mingzhu Liu</th>\n",
       "      <td>mingzhul@andrew.cmu.edu,liumingzhu233@gmail.com</td>\n",
       "      <td>1.0</td>\n",
       "    </tr>\n",
       "    <tr>\n",
       "      <th>Yifu Cai</th>\n",
       "      <td>yifuc@andrew.cmu.edu</td>\n",
       "      <td>1.0</td>\n",
       "    </tr>\n",
       "    <tr>\n",
       "      <th>...</th>\n",
       "      <td>...</td>\n",
       "      <td>...</td>\n",
       "    </tr>\n",
       "    <tr>\n",
       "      <th>Dongning Yang</th>\n",
       "      <td>dongniny@andrew.cmu.edu,dnn0226@gmail.com</td>\n",
       "      <td>2.0</td>\n",
       "    </tr>\n",
       "    <tr>\n",
       "      <th>Emily Allendorf</th>\n",
       "      <td>ejallend@andrew.cmu.edu</td>\n",
       "      <td>1.0</td>\n",
       "    </tr>\n",
       "    <tr>\n",
       "      <th>Harshita diddee</th>\n",
       "      <td>hdiddee@andrew.cmu.edu,harshitadd@gmail.com</td>\n",
       "      <td>1.0</td>\n",
       "    </tr>\n",
       "    <tr>\n",
       "      <th>Aarrya Saraf</th>\n",
       "      <td>aarryas@andrew.cmu.edu,aarryasaraf@gmail.com</td>\n",
       "      <td>1.0</td>\n",
       "    </tr>\n",
       "    <tr>\n",
       "      <th>Nikash Bhardwaj</th>\n",
       "      <td>nikashb@andrew.cmu.edu</td>\n",
       "      <td>1.0</td>\n",
       "    </tr>\n",
       "  </tbody>\n",
       "</table>\n",
       "<p>120 rows × 2 columns</p>\n",
       "</div>"
      ],
      "text/plain": [
       "                                                           emails  vote\n",
       "name                                                                   \n",
       "Joseph Chan        josephc2@andrew.cmu.edu,josephchanke@gmail.com   1.0\n",
       "James David Ngai       jdngai@andrew.cmu.edu,jamesdngai@gmail.com   1.0\n",
       "Theophilos                                tcockrel@andrew.cmu.edu   1.0\n",
       "Mingzhu Liu       mingzhul@andrew.cmu.edu,liumingzhu233@gmail.com   1.0\n",
       "Yifu Cai                                     yifuc@andrew.cmu.edu   1.0\n",
       "...                                                           ...   ...\n",
       "Dongning Yang           dongniny@andrew.cmu.edu,dnn0226@gmail.com   2.0\n",
       "Emily Allendorf                           ejallend@andrew.cmu.edu   1.0\n",
       "Harshita diddee       hdiddee@andrew.cmu.edu,harshitadd@gmail.com   1.0\n",
       "Aarrya Saraf         aarryas@andrew.cmu.edu,aarryasaraf@gmail.com   1.0\n",
       "Nikash Bhardwaj                            nikashb@andrew.cmu.edu   1.0\n",
       "\n",
       "[120 rows x 2 columns]"
      ]
     },
     "execution_count": 26,
     "metadata": {},
     "output_type": "execute_result"
    }
   ],
   "source": [
    "input = pd.read_csv('piazzaPoll-10701-Poll1-Aug-28.csv', index_col= 'name')\n",
    "\n",
    "# input.tail()\n",
    "input = input.iloc[:-4]\n",
    "# input[\"Nikash Bhardwaj\"]\n",
    "input.head(input.shape[0])"
   ]
  },
  {
   "cell_type": "code",
   "execution_count": 29,
   "metadata": {},
   "outputs": [
    {
     "name": "stdout",
     "output_type": "stream",
     "text": [
      "<class 'pandas.core.frame.DataFrame'>\n",
      "Index: 120 entries, Joseph Chan to Nikash Bhardwaj\n",
      "Data columns (total 2 columns):\n",
      " #   Column  Non-Null Count  Dtype  \n",
      "---  ------  --------------  -----  \n",
      " 0   emails  120 non-null    object \n",
      " 1   vote    120 non-null    float64\n",
      "dtypes: float64(1), object(1)\n",
      "memory usage: 2.8+ KB\n"
     ]
    }
   ],
   "source": [
    "input[\"emails\"] = input[\"emails\"].apply(lambda x: x.split(\",\"))\n",
    "# input.info()"
   ]
  },
  {
   "cell_type": "code",
   "execution_count": 31,
   "metadata": {},
   "outputs": [],
   "source": [
    "def getAndrew(emails):\n",
    "    for email in emails:\n",
    "        if 'andrew.cmu.edu' in email:\n",
    "            return email\n",
    "        else:\n",
    "            return \"No Andrew ID\"\n",
    "        \n",
    "input[\"Andrew Email\"] = input[\"emails\"].apply(lambda x: getAndrew(x))"
   ]
  },
  {
   "cell_type": "code",
   "execution_count": 32,
   "metadata": {},
   "outputs": [
    {
     "data": {
      "text/html": [
       "<div>\n",
       "<style scoped>\n",
       "    .dataframe tbody tr th:only-of-type {\n",
       "        vertical-align: middle;\n",
       "    }\n",
       "\n",
       "    .dataframe tbody tr th {\n",
       "        vertical-align: top;\n",
       "    }\n",
       "\n",
       "    .dataframe thead th {\n",
       "        text-align: right;\n",
       "    }\n",
       "</style>\n",
       "<table border=\"1\" class=\"dataframe\">\n",
       "  <thead>\n",
       "    <tr style=\"text-align: right;\">\n",
       "      <th></th>\n",
       "      <th>emails</th>\n",
       "      <th>vote</th>\n",
       "      <th>Andrew Email</th>\n",
       "    </tr>\n",
       "    <tr>\n",
       "      <th>name</th>\n",
       "      <th></th>\n",
       "      <th></th>\n",
       "      <th></th>\n",
       "    </tr>\n",
       "  </thead>\n",
       "  <tbody>\n",
       "    <tr>\n",
       "      <th>Joseph Chan</th>\n",
       "      <td>[josephc2@andrew.cmu.edu, josephchanke@gmail.com]</td>\n",
       "      <td>1.0</td>\n",
       "      <td>josephc2@andrew.cmu.edu</td>\n",
       "    </tr>\n",
       "    <tr>\n",
       "      <th>James David Ngai</th>\n",
       "      <td>[jdngai@andrew.cmu.edu, jamesdngai@gmail.com]</td>\n",
       "      <td>1.0</td>\n",
       "      <td>jdngai@andrew.cmu.edu</td>\n",
       "    </tr>\n",
       "    <tr>\n",
       "      <th>Theophilos</th>\n",
       "      <td>[tcockrel@andrew.cmu.edu]</td>\n",
       "      <td>1.0</td>\n",
       "      <td>tcockrel@andrew.cmu.edu</td>\n",
       "    </tr>\n",
       "    <tr>\n",
       "      <th>Mingzhu Liu</th>\n",
       "      <td>[mingzhul@andrew.cmu.edu, liumingzhu233@gmail....</td>\n",
       "      <td>1.0</td>\n",
       "      <td>mingzhul@andrew.cmu.edu</td>\n",
       "    </tr>\n",
       "    <tr>\n",
       "      <th>Yifu Cai</th>\n",
       "      <td>[yifuc@andrew.cmu.edu]</td>\n",
       "      <td>1.0</td>\n",
       "      <td>yifuc@andrew.cmu.edu</td>\n",
       "    </tr>\n",
       "  </tbody>\n",
       "</table>\n",
       "</div>"
      ],
      "text/plain": [
       "                                                             emails  vote  \\\n",
       "name                                                                        \n",
       "Joseph Chan       [josephc2@andrew.cmu.edu, josephchanke@gmail.com]   1.0   \n",
       "James David Ngai      [jdngai@andrew.cmu.edu, jamesdngai@gmail.com]   1.0   \n",
       "Theophilos                                [tcockrel@andrew.cmu.edu]   1.0   \n",
       "Mingzhu Liu       [mingzhul@andrew.cmu.edu, liumingzhu233@gmail....   1.0   \n",
       "Yifu Cai                                     [yifuc@andrew.cmu.edu]   1.0   \n",
       "\n",
       "                             Andrew Email  \n",
       "name                                       \n",
       "Joseph Chan       josephc2@andrew.cmu.edu  \n",
       "James David Ngai    jdngai@andrew.cmu.edu  \n",
       "Theophilos        tcockrel@andrew.cmu.edu  \n",
       "Mingzhu Liu       mingzhul@andrew.cmu.edu  \n",
       "Yifu Cai             yifuc@andrew.cmu.edu  "
      ]
     },
     "execution_count": 32,
     "metadata": {},
     "output_type": "execute_result"
    }
   ],
   "source": [
    "input.head()\n"
   ]
  },
  {
   "cell_type": "code",
   "execution_count": 35,
   "metadata": {},
   "outputs": [
    {
     "data": {
      "text/html": [
       "<div>\n",
       "<style scoped>\n",
       "    .dataframe tbody tr th:only-of-type {\n",
       "        vertical-align: middle;\n",
       "    }\n",
       "\n",
       "    .dataframe tbody tr th {\n",
       "        vertical-align: top;\n",
       "    }\n",
       "\n",
       "    .dataframe thead th {\n",
       "        text-align: right;\n",
       "    }\n",
       "</style>\n",
       "<table border=\"1\" class=\"dataframe\">\n",
       "  <thead>\n",
       "    <tr style=\"text-align: right;\">\n",
       "      <th></th>\n",
       "      <th>emails</th>\n",
       "      <th>vote</th>\n",
       "      <th>Andrew Email</th>\n",
       "    </tr>\n",
       "    <tr>\n",
       "      <th>name</th>\n",
       "      <th></th>\n",
       "      <th></th>\n",
       "      <th></th>\n",
       "    </tr>\n",
       "  </thead>\n",
       "  <tbody>\n",
       "    <tr>\n",
       "      <th>Hao-Yung Weng</th>\n",
       "      <td>[haoyungweng@cmu.edu, haoyungw@cs.cmu.edu]</td>\n",
       "      <td>1.0</td>\n",
       "      <td>No Andrew ID</td>\n",
       "    </tr>\n",
       "  </tbody>\n",
       "</table>\n",
       "</div>"
      ],
      "text/plain": [
       "                                                   emails  vote  Andrew Email\n",
       "name                                                                         \n",
       "Hao-Yung Weng  [haoyungweng@cmu.edu, haoyungw@cs.cmu.edu]   1.0  No Andrew ID"
      ]
     },
     "execution_count": 35,
     "metadata": {},
     "output_type": "execute_result"
    }
   ],
   "source": [
    "input.loc[input[\"Andrew Email\"] == \"No Andrew ID\"]"
   ]
  },
  {
   "cell_type": "code",
   "execution_count": 36,
   "metadata": {},
   "outputs": [],
   "source": [
    "input.to_csv(\"Poll 1.csv\")"
   ]
  },
  {
   "cell_type": "code",
   "execution_count": null,
   "metadata": {},
   "outputs": [],
   "source": []
  }
 ],
 "metadata": {
  "kernelspec": {
   "display_name": "Python 3",
   "language": "python",
   "name": "python3"
  },
  "language_info": {
   "codemirror_mode": {
    "name": "ipython",
    "version": 3
   },
   "file_extension": ".py",
   "mimetype": "text/x-python",
   "name": "python",
   "nbconvert_exporter": "python",
   "pygments_lexer": "ipython3",
   "version": "3.11.2"
  }
 },
 "nbformat": 4,
 "nbformat_minor": 2
}
