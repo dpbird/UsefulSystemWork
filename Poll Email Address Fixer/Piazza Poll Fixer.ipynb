{
 "cells": [
  {
   "cell_type": "code",
   "execution_count": 1,
   "metadata": {},
   "outputs": [],
   "source": [
    "import pandas as pd\n",
    "import os"
   ]
  },
  {
   "cell_type": "code",
   "execution_count": 39,
   "metadata": {},
   "outputs": [
    {
     "name": "stdout",
     "output_type": "stream",
     "text": [
      "Directory exists\n"
     ]
    }
   ],
   "source": [
    "polls = list(os.walk(\"Piazza Polls\"))[0][-1]\n",
    "\n",
    "def getAndrew(emails):\n",
    "    for email in emails:\n",
    "        if 'andrew.cmu.edu' in email:\n",
    "            return email\n",
    "        else:\n",
    "            return \"No Andrew ID\"\n",
    "\n",
    "if not os.path.isdir(\"Fixed Piazza Polls\"):\n",
    "    print(\"Directory does not exist... creating 'Fixed Piazza Polls' directory\")\n",
    "    os.makedirs(\"Fixed Piazza Polls\")\n",
    "else:\n",
    "    print(\"Directory exists\")\n",
    "\n",
    "\n",
    "for i in range(len(polls)):\n",
    "    input = pd.read_csv(f\"Piazza Polls/{polls[i]}\", index_col= 'name')\n",
    "    input = input.dropna(how='all')\n",
    "    input = input.iloc[:-3]\n",
    "    input[\"emails\"] = input[\"emails\"].apply(lambda x: x.split(\",\"))\n",
    "\n",
    "    input[\"Andrew Email\"] = input[\"emails\"].apply(lambda x: getAndrew(x))\n",
    "    if input.loc[input[\"Andrew Email\"] == \"No Andrew ID\"].shape[0] != 0:\n",
    "        print(f\"WARNING: {input.loc[input['Andrew Email'] == 'No Andrew ID'].shape[0]} students found without andrew ID! Located in file \n",
    "              {polls[i]} Student names {input.loc[input['Andrew Email'] == 'No Andrew ID'].index.values}.\")\n",
    "\n",
    "    input.to_csv(f\"Fixed Piazza Polls/{polls[i][:-4]} fixed.csv\")\n",
    "    "
   ]
  },
  {
   "cell_type": "code",
   "execution_count": null,
   "metadata": {},
   "outputs": [],
   "source": []
  },
  {
   "cell_type": "code",
   "execution_count": null,
   "metadata": {},
   "outputs": [],
   "source": []
  }
 ],
 "metadata": {
  "kernelspec": {
   "display_name": "Python 3",
   "language": "python",
   "name": "python3"
  },
  "language_info": {
   "codemirror_mode": {
    "name": "ipython",
    "version": 3
   },
   "file_extension": ".py",
   "mimetype": "text/x-python",
   "name": "python",
   "nbconvert_exporter": "python",
   "pygments_lexer": "ipython3",
   "version": "3.11.2"
  }
 },
 "nbformat": 4,
 "nbformat_minor": 2
}
