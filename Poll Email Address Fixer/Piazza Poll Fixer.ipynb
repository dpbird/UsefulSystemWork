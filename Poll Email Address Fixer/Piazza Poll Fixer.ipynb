{
 "cells": [
  {
   "cell_type": "code",
   "execution_count": 1,
   "metadata": {},
   "outputs": [],
   "source": [
    "import pandas as pd\n",
    "import os"
   ]
  },
  {
   "cell_type": "code",
   "execution_count": 34,
   "metadata": {},
   "outputs": [
    {
     "name": "stdout",
     "output_type": "stream",
     "text": [
      "(127, 2)\n",
      "(125, 2)\n",
      "emails    bedmunds12@gmail.com\n",
      "vote                       1.0\n",
      "Name: Brynn Edmunds, dtype: object\n",
      "WARNING: 3 students found without andrew ID! Located in file piazzaPoll-10701-Poll1-Aug-28.csv Student names ['Hao-Yung Weng' 'Daniel Bird' 'Brynn Edmunds'].\n",
      "(124, 2)\n",
      "(123, 2)\n",
      "emails    nikashb@andrew.cmu.edu\n",
      "vote                         1.0\n",
      "Name: Nikash Bhardwaj, dtype: object\n",
      "WARNING: 1 students found without andrew ID! Located in file piazzaPoll-10701-Poll1-Aug-29.csv Student names ['Hao-Yung Weng'].\n",
      "(124, 2)\n",
      "(123, 2)\n",
      "emails    nikashb@andrew.cmu.edu\n",
      "vote                         1.0\n",
      "Name: Nikash Bhardwaj, dtype: object\n",
      "WARNING: 1 students found without andrew ID! Located in file piazzaPoll-10701-Poll1-Aug-30.csv Student names ['Hao-Yung Weng'].\n"
     ]
    }
   ],
   "source": [
    "polls = list(os.walk(\"Piazza Polls\"))[0][-1]\n",
    "\n",
    "def getAndrew(emails):\n",
    "    for email in emails:\n",
    "        if 'andrew.cmu.edu' in email:\n",
    "            return email\n",
    "        else:\n",
    "            return \"No Andrew ID\"\n",
    "\n",
    "\n",
    "for i in range(len(polls)):\n",
    "    input = pd.read_csv(f\"Piazza Polls/{polls[i]}\", index_col= 'name')\n",
    "    input = input.dropna(how='all')\n",
    "    input = input.iloc[:-3]\n",
    "    input[\"emails\"] = input[\"emails\"].apply(lambda x: x.split(\",\"))\n",
    "\n",
    "    input[\"Andrew Email\"] = input[\"emails\"].apply(lambda x: getAndrew(x))\n",
    "    if input.loc[input[\"Andrew Email\"] == \"No Andrew ID\"].shape[0] != 0:\n",
    "        print(f\"WARNING: {input.loc[input['Andrew Email'] == 'No Andrew ID'].shape[0]} students found without andrew ID! Located in file \n",
    "              {polls[i]} Student names {input.loc[input['Andrew Email'] == 'No Andrew ID'].index.values}.\")\n",
    "\n",
    "    input.to_csv(f\"Fixed Piazza Polls/{polls[i][:-4]} fixed.csv\")\n",
    "    "
   ]
  },
  {
   "cell_type": "code",
   "execution_count": null,
   "metadata": {},
   "outputs": [],
   "source": []
  }
 ],
 "metadata": {
  "kernelspec": {
   "display_name": "Python 3",
   "language": "python",
   "name": "python3"
  },
  "language_info": {
   "codemirror_mode": {
    "name": "ipython",
    "version": 3
   },
   "file_extension": ".py",
   "mimetype": "text/x-python",
   "name": "python",
   "nbconvert_exporter": "python",
   "pygments_lexer": "ipython3",
   "version": "3.11.2"
  }
 },
 "nbformat": 4,
 "nbformat_minor": 2
}
